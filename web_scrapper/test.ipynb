{
 "cells": [
  {
   "cell_type": "code",
   "execution_count": 10,
   "metadata": {},
   "outputs": [
    {
     "name": "stdout",
     "output_type": "stream",
     "text": [
      "경기 시작 전입니다.\n",
      "https://m.sports.naver.com/game/20240620SKSS02024\n",
      "\n",
      "\n",
      "\n",
      "\n",
      "\n",
      "\n",
      "\n",
      "\n"
     ]
    }
   ],
   "source": [
    "# Import necessary modules\n",
    "from imports import *\n",
    "from classes import *\n",
    "from functions import *\n",
    "\n",
    "url = GetCurrentMatch('롯데')\n",
    "url = 'https://m.sports.naver.com/game/20240620SKSS02024'\n",
    "print(url)\n",
    "\n",
    "away, home = ReadRelay(url, False)\n",
    "if away and home:\n",
    "    print(\"ReadRelay successful:\")\n",
    "    print(\"Away Team:\", away.name)\n",
    "    print(\"Home Team:\", home.name)\n",
    "else:\n",
    "    print(\"ReadRelay did not return valid team information.\")"
   ]
  },
  {
   "cell_type": "code",
   "execution_count": null,
   "metadata": {},
   "outputs": [],
   "source": [
    "print(away)"
   ]
  },
  {
   "cell_type": "code",
   "execution_count": null,
   "metadata": {},
   "outputs": [],
   "source": []
  }
 ],
 "metadata": {
  "kernelspec": {
   "display_name": "Python 3",
   "language": "python",
   "name": "python3"
  },
  "language_info": {
   "codemirror_mode": {
    "name": "ipython",
    "version": 3
   },
   "file_extension": ".py",
   "mimetype": "text/x-python",
   "name": "python",
   "nbconvert_exporter": "python",
   "pygments_lexer": "ipython3",
   "version": "3.12.4"
  }
 },
 "nbformat": 4,
 "nbformat_minor": 2
}
