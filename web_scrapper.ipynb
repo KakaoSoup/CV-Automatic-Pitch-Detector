{
 "cells": [
  {
   "cell_type": "code",
   "execution_count": null,
   "metadata": {},
   "outputs": [],
   "source": [
    "from collections import namedtuple\n",
    "import requests\n",
    "from bs4 import BeautifulSoup\n",
    "import time\n",
    "import re"
   ]
  },
  {
   "cell_type": "code",
   "execution_count": null,
   "metadata": {},
   "outputs": [],
   "source": [
    "from selenium import webdriver\n",
    "from selenium.webdriver.common.by import By\n",
    "from selenium.webdriver.chrome.service import Service\n",
    "from selenium.webdriver.chrome.options import Options\n",
    "from selenium.webdriver.support.ui import WebDriverWait\n",
    "from selenium.webdriver.support import expected_conditions as EC\n",
    "from selenium.common.exceptions import NoSuchElementException, TimeoutException\n",
    "from webdriver_manager.chrome import ChromeDriverManager"
   ]
  },
  {
   "cell_type": "code",
   "execution_count": null,
   "metadata": {},
   "outputs": [],
   "source": [
    "class Team:\n",
    "      def __init__(self, hit, homerun, steal, strikeout, doubleplay, error):\n",
    "            self.hit = hit\n",
    "            self.homerun = homerun\n",
    "            self.steal = steal\n",
    "            self.strikeout = strikeout\n",
    "            self.doubleplay = doubleplay\n",
    "            self.error = error\n",
    "\n",
    "      def get_scores(self):\n",
    "            return [\n",
    "                  self.hit,         # Score 1\n",
    "                  self.homerun,     # Score 2\n",
    "                  self.steal,       # Score 3\n",
    "                  self.strikeout,   # Score 4\n",
    "                  self.doubleplay,  # Score 5\n",
    "                  self.error        # Score 6\n",
    "            ]"
   ]
  },
  {
   "cell_type": "code",
   "execution_count": null,
   "metadata": {},
   "outputs": [],
   "source": [
    "# Set up ChromeDriver\n",
    "service = Service(ChromeDriverManager().install())"
   ]
  },
  {
   "cell_type": "code",
   "execution_count": null,
   "metadata": {},
   "outputs": [],
   "source": [
    "driver = webdriver.Chrome(service=service)\n",
    "\n",
    "# URL of the webpage to scrape\n",
    "url = 'https://m.sports.naver.com/game/20240613LGSS02024/record'\n",
    "\n",
    "# Open the webpage\n",
    "driver.get(url)\n",
    "\n",
    "# Optionally wait for the elements to load (adjust the time as needed)\n",
    "driver.implicitly_wait(10)"
   ]
  },
  {
   "cell_type": "code",
   "execution_count": null,
   "metadata": {},
   "outputs": [],
   "source": [
    "try:\n",
    "    # Find all div elements with the specified class\n",
    "    score_divs = driver.find_elements(By.CLASS_NAME, 'TeamVS_score__2Iv0U')\n",
    "    \n",
    "    # Iterate over the found elements and print their text content\n",
    "    for index, score_div in enumerate(score_divs, start=1):\n",
    "        score = score_div.text\n",
    "        print(f'Score {index}: {score}')\n",
    "except Exception as e:\n",
    "    print(f'Error: {e}')\n",
    "finally:\n",
    "    driver.close()"
   ]
  },
  {
   "cell_type": "code",
   "execution_count": null,
   "metadata": {},
   "outputs": [],
   "source": [
    "Team1 = Team(hit=score_divs[0], homerun=score_divs[2], steal=score_divs[4], strikeout=score_divs[6], doubleplay=score_divs[8], error=score_divs[10])\n",
    "Team2 = Team(hit=score_divs[1], homerun=score_divs[3], steal=score_divs[5], strikeout=score_divs[7], doubleplay=score_divs[9], error=score_divs[11])"
   ]
  },
  {
   "cell_type": "markdown",
   "metadata": {},
   "source": [
    "#content > div > div.Home_main_section__y9jR4 > section.Home_game_panel__97L_8 > div.Home_game_contents__35IMT > div > div.PlayerRecord_comp_player_record__1tI5G.type_kbo > div.PlayerRecord_tabpanel__3GYt9 > div:nth-child(1) > div.PlayerRecord_player_list_area__gbho3 > ul > li:nth-child(1) > a"
   ]
  },
  {
   "cell_type": "code",
   "execution_count": null,
   "metadata": {},
   "outputs": [],
   "source": [
    "html = requests.get(url).text\n",
    "soup = BeautifulSoup(html, \"html5lib\")"
   ]
  },
  {
   "cell_type": "code",
   "execution_count": null,
   "metadata": {},
   "outputs": [],
   "source": [
    "name = soup.find_all('span', class_ = 'PlayerRecord_name__1W_c0')\n",
    "print(name)"
   ]
  },
  {
   "cell_type": "code",
   "execution_count": null,
   "metadata": {},
   "outputs": [],
   "source": [
    "def remove_newlines(text):\n",
    "    return text.replace(\"\\n\", \"\").replace(\"\\r\", \"\")"
   ]
  },
  {
   "cell_type": "code",
   "execution_count": null,
   "metadata": {},
   "outputs": [],
   "source": [
    "driver = webdriver.Chrome(service=service)\n",
    "\n",
    "# Open the webpage\n",
    "driver.get(url)\n",
    "\n",
    "# Optionally wait for the elements to load (adjust the time as needed)\n",
    "driver.implicitly_wait(10)"
   ]
  },
  {
   "cell_type": "code",
   "execution_count": null,
   "metadata": {},
   "outputs": [],
   "source": [
    "print(f'타순\\t포지션\\t이름')\n",
    "try:\n",
    "    # Find all div elements with the specified class\n",
    "    name_elements = driver.find_elements(By.CLASS_NAME, 'PlayerRecord_name__1W_c0')\n",
    "    position_elements = driver.find_elements(By.CLASS_NAME, 'PlayerRecord_position__3SBbd')\n",
    "    order = 0\n",
    "    \n",
    "    # Iterate over the found elements and print their text content\n",
    "    for index, (name_elem, pos_elem) in enumerate(zip(name_elements, position_elements), start=1):\n",
    "        name = name_elem.text.strip()  # strip()을 이용해 공백 제거\n",
    "        pos = pos_elem.text.strip()\n",
    "        \n",
    "        if name:\n",
    "            if pos == \"대타\":\n",
    "                print(f'교체\\t{pos}\\t{name}')  # 공백을 추가하여 올바르게 출력\n",
    "            else:\n",
    "                order = order + 1                           # strip()을 이용해 공백 제거\n",
    "                print(f'{order}번\\t{pos}\\t{name}')     # 공백을 추가하여 올바르게 출력\n",
    "                              \n",
    "except Exception as e:\n",
    "    print(f'Error: {e}')\n",
    "finally:\n",
    "    driver.close()"
   ]
  },
  {
   "cell_type": "markdown",
   "metadata": {},
   "source": [
    "실시간 중계 data 읽기"
   ]
  },
  {
   "cell_type": "code",
   "execution_count": null,
   "metadata": {},
   "outputs": [],
   "source": [
    "class RelayList_result:\n",
    "      main_info: str\n",
    "      winning_rate: float\n",
    "      winning_rate_diff: float\n",
    "\n",
    "class RelayList_history(RelayList_result):\n",
    "      ball_cnt: int\n",
    "\n",
    "class RelayList_pitch(RelayList_history):\n",
    "      type: str\n",
    "      speed: int\n",
    "      stuff: str\n",
    "      "
   ]
  },
  {
   "cell_type": "code",
   "execution_count": null,
   "metadata": {},
   "outputs": [],
   "source": [
    "# 중계 탭 url 읽기\n",
    "url = 'https://m.sports.naver.com/game/20240613LGSS02024/relay'"
   ]
  },
  {
   "cell_type": "code",
   "execution_count": null,
   "metadata": {},
   "outputs": [],
   "source": [
    "# 특정 클래스의 하위 요소 찾기\n",
    "relay_player_area = 'RelayList_player_area__2ur0q'\n",
    "relay_result_area = 'RelayList_result_area__2j4GI'\n",
    "relay_main_info = 'RelayList_main_info__zGpeF'\n",
    "relay_history = 'RelayList_history_list__13jzg'\n",
    "relay_pitch = 'RelayList_history_item__UEQst RelayList_type_pitch__3jVsu'\n",
    "relay_stuff = 'RelayList_stuff__cpnw5'\n",
    "relay_text = 'RelayList_text__tFNjV'\n",
    "relay_speed = 'RelayList_speed__xA-Qw'"
   ]
  },
  {
   "cell_type": "code",
   "execution_count": null,
   "metadata": {},
   "outputs": [],
   "source": [
    "# web page 열기\n",
    "service = Service(ChromeDriverManager().install())\n",
    "driver = webdriver.Chrome(service=service)\n",
    "driver.get(url)\n",
    "\n",
    "# Optionally wait for the elements to load (adjust the time as needed)\n",
    "driver.implicitly_wait(10)"
   ]
  },
  {
   "cell_type": "code",
   "execution_count": null,
   "metadata": {},
   "outputs": [],
   "source": [
    "try:\n",
    "    # 요소가 로드될 때까지 기다리기\n",
    "    wait = WebDriverWait(driver, 10)\n",
    "    player_areas = wait.until(EC.presence_of_all_elements_located((By.CLASS_NAME, relay_player_area)))\n",
    "    \n",
    "    for player_area in player_areas:\n",
    "        main_infos = player_area.find_elements(By.CLASS_NAME, relay_main_info)\n",
    "        for main_info in main_infos:\n",
    "            main_info_texts = main_info.find_elements(By.CLASS_NAME, relay_text)\n",
    "            for text_element in main_info_texts:\n",
    "                print(text_element.text)    \n",
    "\n",
    "        history_elements = player_area.find_elements(By.CLASS_NAME, relay_history)\n",
    "        for history in history_elements:\n",
    "            types = history.find_elements(By.CLASS_NAME, relay_text)\n",
    "            stuffs = history.find_elements(By.CLASS_NAME, relay_stuff)\n",
    "            speeds = history.find_elements(By.CLASS_NAME, relay_speed)\n",
    "            \n",
    "            for type_element, speed_element, stuff_element in zip(types, speeds, stuffs):\n",
    "                type_text = type_element.text\n",
    "                speed_text = int(speed_element.text[:-4])\n",
    "                stuff_text = stuff_element.text\n",
    "                print(f'{type_text}: {speed_text}km/h {stuff_text}')\n",
    "                \n",
    "        print('\\n')\n",
    "            \n",
    "except Exception as e:\n",
    "    print(f'Error: {str(e)}')\n",
    "finally:\n",
    "    # 브라우저 닫기\n",
    "    driver.quit()"
   ]
  },
  {
   "cell_type": "code",
   "execution_count": null,
   "metadata": {},
   "outputs": [],
   "source": [
    "# 클래스명 상수 정의\n",
    "relay_player_area = 'RelayList_player_area__2ur0q'\n",
    "relay_result_area = 'RelayList_result_area__2j4GI'\n",
    "relay_main_info = 'RelayList_main_info__zGpeF'\n",
    "relay_points = 'RelayList_point__1IjBt'\n",
    "relay_history = 'RelayList_history_list__13jzg'\n",
    "relay_pitch_num = 'RelayList_pitch_number__YlthP'\n",
    "relay_pitch = 'RelayList_history_item__UEQst RelayList_type_pitch__3jVsu'\n",
    "relay_stuff = 'RelayList_stuff__cpnw5'\n",
    "relay_text = 'RelayList_text__tFNjV'\n",
    "relay_speed = 'RelayList_speed__xA-Qw'\n",
    "relay_count = 'RelayList_ball_count__2D8Rd'\n",
    "relay_change = 'RelayList_history_item__UEQst.Relaylist_type_change__2Zxlf'"
   ]
  },
  {
   "cell_type": "code",
   "execution_count": 540,
   "metadata": {},
   "outputs": [],
   "source": [
    "def ReadRelay(url):\n",
    "    # WebDriver 설정 및 브라우저 열기\n",
    "    service = Service(ChromeDriverManager().install())\n",
    "    driver = webdriver.Chrome(service=service)\n",
    "\n",
    "    # 웹 페이지 로드\n",
    "    driver.get(url)\n",
    "\n",
    "    # 클래스명 상수 정의\n",
    "    relay_player_area = 'RelayList_player_area__2ur0q'\n",
    "    relay_result_area = 'RelayList_result_area__2j4GI'\n",
    "    relay_main_info = 'RelayList_main_info__zGpeF'\n",
    "    relay_points = 'RelayList_point__1IjBt'\n",
    "    relay_history = 'RelayList_history_list__13jzg'\n",
    "    relay_pitch_num = 'RelayList_pitch_number__YlthP'\n",
    "    relay_pitch = 'RelayList_history_item__UEQst RelayList_type_pitch__3jVsu'\n",
    "    relay_stuff = 'RelayList_stuff__cpnw5'\n",
    "    relay_text = 'RelayList_text__tFNjV'\n",
    "    relay_speed = 'RelayList_speed__xA-Qw'\n",
    "    relay_count = 'RelayList_ball_count__2D8Rd'\n",
    "    relay_change = 'RelayList_history_item__UEQst RelayList_type_change__2Zxlf'\n",
    "\n",
    "    try:\n",
    "        for num in range(1, 10):\n",
    "            # 버튼 클릭하기\n",
    "            button_css_selector = f\"#content > div > div.Home_main_section__y9jR4 > section.Home_game_panel__97L_8 > div.Home_game_contents__35IMT > div > div.SetTab_tab_list__1HLl0 > div > div > button:nth-child({num})\"\n",
    "\n",
    "            try:\n",
    "                button = WebDriverWait(driver, 10).until(EC.element_to_be_clickable((By.CSS_SELECTOR, button_css_selector)))\n",
    "                button.click()\n",
    "\n",
    "                # 정보가 업데이트될 때까지 충분히 기다리기\n",
    "                time.sleep(2)\n",
    "\n",
    "                # 업데이트된 정보 가져오기\n",
    "                page_source = driver.page_source\n",
    "\n",
    "                # BeautifulSoup로 HTML 파싱\n",
    "                soup = BeautifulSoup(page_source, 'html.parser')\n",
    "\n",
    "                print(f'*************** {num}회 ***************\\n')\n",
    "\n",
    "                player_areas = soup.find_all(class_=relay_player_area)\n",
    "                for player_area in reversed(player_areas):\n",
    "                    # main_info\n",
    "                    main_infos = player_area.find_all(class_=relay_main_info)\n",
    "                    for main_info in main_infos:\n",
    "                        main_info_texts = main_info.find_all(class_=relay_text)\n",
    "                        if main_info_texts:\n",
    "                            for text_element in main_info_texts:\n",
    "                                print(text_element.get_text())\n",
    "                        main_info_points = main_info.find_all(class_=relay_points)\n",
    "                        if main_info_points:\n",
    "                            for text_element in main_info_points:\n",
    "                                print(f'(득점) {text_element.get_text()}')\n",
    "                                \n",
    "                    # history_list\n",
    "                    history_elements = player_area.find_all(class_=relay_history)\n",
    "                    for history in history_elements:\n",
    "                        pitch_nums = history.find_all(class_=relay_pitch_num)\n",
    "                        types = history.find_all(class_=relay_text)\n",
    "                        stuffs = history.find_all(class_=relay_stuff)\n",
    "                        speeds = history.find_all(class_=relay_speed)\n",
    "                        counts = history.find_all(class_=relay_count)\n",
    "                        changes = history.find_all(class_=relay_change)\n",
    "\n",
    "                        max_length = max(len(pitch_nums), len(types), len(stuffs), len(speeds), len(counts))\n",
    "\n",
    "                        # 리스트 길이 맞추기\n",
    "                        while len(pitch_nums) < max_length:\n",
    "                            pitch_nums.insert(0, None)\n",
    "                        while len(types) < max_length:\n",
    "                            types.insert(0, None)\n",
    "                        while len(stuffs) < max_length:\n",
    "                            stuffs.insert(0, None)\n",
    "                        while len(speeds) < max_length:\n",
    "                            speeds.insert(0, None)\n",
    "                        while len(counts) < max_length:\n",
    "                            counts.insert(0, None)  # 공백 문자열이 아닌 빈 항목 추가\n",
    "\n",
    "                        for pitch_num_element, type_element, speed_element, stuff_element, count_element in zip(reversed(pitch_nums), reversed(types), reversed(speeds), reversed(stuffs), reversed(counts)):\n",
    "                            pitch_num_text = int(pitch_num_element.get_text()[:-1]) if pitch_num_element else 'N/A'\n",
    "                            type_text = type_element.get_text() if type_element else 'N/A'\n",
    "                            speed_text = int(speed_element.get_text()[:-4]) if speed_element else 'N/A'\n",
    "                            stuff_text = stuff_element.get_text() if stuff_element else 'N/A'\n",
    "                            count_text = count_element.get_text()[4:] if count_element else 'N/A'\n",
    "                            print(f'{pitch_num_text}구 {type_text}: {speed_text}km/h {stuff_text} | {count_text}')\n",
    "\n",
    "\n",
    "                        # changes 처리\n",
    "                        if changes:\n",
    "                            print(changes)\n",
    "                            #for change_element in changes:\n",
    "                            #    change_text = change_element.get_text()\n",
    "                            #    print(change_text)\n",
    "\n",
    "                    print('\\n')\n",
    "\n",
    "            except TimeoutException:\n",
    "                print(f\"버튼을 찾을 수 없거나 클릭할 수 없습니다: {button_css_selector}\")\n",
    "                break\n",
    "            except NoSuchElementException:\n",
    "                print(f\"버튼이 존재하지 않습니다: {button_css_selector}\")\n",
    "                break\n",
    "            except Exception as e:\n",
    "                print(f\"Unexpected error: {str(e)}\")\n",
    "                break\n",
    "\n",
    "    except Exception as e:\n",
    "        print(f'Error: {str(e)}')\n",
    "    finally:\n",
    "        # 브라우저 닫기\n",
    "        driver.quit()"
   ]
  },
  {
   "cell_type": "markdown",
   "metadata": {},
   "source": [
    "진행중인 경기 URL 가져오기"
   ]
  },
  {
   "cell_type": "markdown",
   "metadata": {},
   "source": [
    "https://sports.news.naver.com/kbaseball/index"
   ]
  },
  {
   "cell_type": "code",
   "execution_count": 541,
   "metadata": {},
   "outputs": [],
   "source": [
    "from datetime import datetime\n",
    "import requests\n",
    "from bs4 import BeautifulSoup\n",
    "import re"
   ]
  },
  {
   "cell_type": "code",
   "execution_count": 542,
   "metadata": {},
   "outputs": [],
   "source": [
    "def GetUrl(team_name):\n",
    "      url = \"https://sports.news.naver.com/kbaseball/index\"\n",
    "\n",
    "      # 팀명에 따른 tag\n",
    "      tag = {\"삼성\": 'SS',    \"롯데\": 'LT', \n",
    "             \"SSG\": 'SK',     \"키움\": 'WO', \n",
    "             \"한화\": 'HH',    \"두산\": 'OB',\n",
    "             \"NC\": 'NC',      \"KIA\": 'HT',\n",
    "             \"KT\": 'KT',      \"LG\": 'LG'}\n",
    "\n",
    "      try:\n",
    "            # 웹 페이지 가져오기\n",
    "            response = requests.get(url)\n",
    "            \n",
    "            # HTTP 응답 상태 확인\n",
    "            response.raise_for_status()\n",
    "            \n",
    "            # BeautifulSoup을 사용하여 HTML 파싱\n",
    "            soup = BeautifulSoup(response.text, 'html.parser')\n",
    "            \n",
    "            # 모든 a 태그 찾기\n",
    "            a_tags = soup.find_all('a')\n",
    "            \n",
    "            # 정규표현식을 이용하여 '/game/'으로 시작하는 링크만 출력\n",
    "            #pattern = re.compile(r'^/game/')\n",
    "            pattern = re.compile(r'/game/\\d{8}[A-Z]{4}\\d{5}')\n",
    "              \n",
    "            for a_tag in a_tags:\n",
    "                  href = a_tag.get('href')\n",
    "                  if href and pattern.match(href) and tag[team_name] in href:\n",
    "                        return \"https://m.sports.naver.com\" + href\n",
    "      except requests.exceptions.RequestException as e:\n",
    "            print(f\"Error fetching page: {e}\")\n",
    "      except Exception as e:\n",
    "            print(f\"An unexpected error occurred: {e}\")"
   ]
  },
  {
   "cell_type": "code",
   "execution_count": 543,
   "metadata": {},
   "outputs": [],
   "source": [
    "def GetCurrentMatch(team_name):\n",
    "      # 현재 날짜와 시간 가져오기\n",
    "      now = datetime.now()\n",
    "      \n",
    "      # 요일 가져오기 (0: 월요일, 1: 화요일, ..., 6: 일요일)\n",
    "      weekday_number = now.weekday()\n",
    "\n",
    "      # 현재 시간의 시와 분 가져오기\n",
    "      current_hour = now.hour\n",
    "      current_minute = now.minute\n",
    "      \n",
    "      # 만약 정수로 사용하고자 한다면, int() 함수를 사용하여 형 변환 가능\n",
    "      current_hour_int = int(current_hour)\n",
    "      current_minute_int = int(current_minute)\n",
    "      \n",
    "      # 평일 경기 여부 확인\n",
    "      if weekday_number < 5:\n",
    "            if current_hour_int > 18 or (current_hour_int == 18 and current_minute_int >= 30):\n",
    "                  print(\"경기가 시작되었습니다.\")\n",
    "                  url = GetUrl(team_name)\n",
    "                  return url\n",
    "            else:\n",
    "                  print(\"경기 시작 전입니다.\")\n",
    "      # 주말 경기 여부 확인\n",
    "      else:\n",
    "            if current_hour_int >= 17:\n",
    "                  print(\"경기가 시작되었습니다.\")\n",
    "                  url = GetUrl(team_name)\n",
    "                  return url\n",
    "            else:\n",
    "                  print(\"경기 시작 전입니다.\")\n",
    "      \n",
    "      return None"
   ]
  },
  {
   "cell_type": "markdown",
   "metadata": {},
   "source": [
    "https://m.sports.naver.com/game/20240619SKSS02024/relay"
   ]
  },
  {
   "cell_type": "code",
   "execution_count": 544,
   "metadata": {},
   "outputs": [
    {
     "name": "stdout",
     "output_type": "stream",
     "text": [
      "경기가 시작되었습니다.\n",
      "https://m.sports.naver.com/game/20240619SKSS02024/record\n"
     ]
    }
   ],
   "source": [
    "url = GetCurrentMatch('삼성')\n",
    "print(url)"
   ]
  },
  {
   "cell_type": "code",
   "execution_count": 545,
   "metadata": {},
   "outputs": [],
   "source": [
    "url = url + '/relay'"
   ]
  },
  {
   "cell_type": "code",
   "execution_count": 546,
   "metadata": {},
   "outputs": [
    {
     "name": "stdout",
     "output_type": "stream",
     "text": [
      "버튼을 찾을 수 없거나 클릭할 수 없습니다: #content > div > div.Home_main_section__y9jR4 > section.Home_game_panel__97L_8 > div.Home_game_contents__35IMT > div > div.SetTab_tab_list__1HLl0 > div > div > button:nth-child(1)\n"
     ]
    }
   ],
   "source": [
    "ReadRelay(url)"
   ]
  },
  {
   "cell_type": "markdown",
   "metadata": {},
   "source": []
  },
  {
   "cell_type": "markdown",
   "metadata": {},
   "source": []
  }
 ],
 "metadata": {
  "kernelspec": {
   "display_name": "Python 3",
   "language": "python",
   "name": "python3"
  },
  "language_info": {
   "codemirror_mode": {
    "name": "ipython",
    "version": 3
   },
   "file_extension": ".py",
   "mimetype": "text/x-python",
   "name": "python",
   "nbconvert_exporter": "python",
   "pygments_lexer": "ipython3",
   "version": "3.12.4"
  }
 },
 "nbformat": 4,
 "nbformat_minor": 2
}
